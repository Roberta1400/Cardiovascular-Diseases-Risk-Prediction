{
 "cells": [
  {
   "cell_type": "markdown",
   "id": "7d016b64",
   "metadata": {},
   "source": [
    "# Cardiovascular Diseases Risk Prediction"
   ]
  },
  {
   "cell_type": "markdown",
   "id": "aa2784a4",
   "metadata": {},
   "source": [
    "#### Project by Roberta Solom and Kadri-Ketter Kont\n",
    "##### Dataset: <a href=\"https://www.kaggle.com/datasets/alphiree/cardiovascular-diseases-risk-prediction-dataset?fbclid=IwAR0HByCc2BdZzRXrOsv2GPAqviBa4R6kwMPwol5TCrTnExaOaBmaQplR59E\">Cardiovascular Diseases Risk Prediction</a>\n",
    "Our primary objective is to create various visual representations, such as plots, to illustrate the impact of different lifestyle factors on the presence of cardiovascular diseases. Furthermore, we're working on building an accurate prediction model and this model will be key in predicting cardiovascular disease risks.\n"
   ]
  },
  {
   "cell_type": "markdown",
   "id": "d8aee11a",
   "metadata": {},
   "source": [
    "## Our data"
   ]
  },
  {
   "cell_type": "code",
   "execution_count": null,
   "id": "105759c1",
   "metadata": {},
   "outputs": [],
   "source": [
    "import pandas as pd\n",
    "\n",
    "data = pd.read_csv(\"CVD_cleaned.csv\")\n",
    "df = pd.DataFrame(data)\n",
    "\n",
    "data"
   ]
  },
  {
   "cell_type": "markdown",
   "id": "56dee12a",
   "metadata": {},
   "source": [
    "### Data consits of 308854 rows (people) and 19 columns (features)"
   ]
  },
  {
   "cell_type": "code",
   "execution_count": null,
   "id": "05473957",
   "metadata": {},
   "outputs": [],
   "source": [
    "for column in data:\n",
    "    print(data[column].value_counts())\n",
    "    print()"
   ]
  },
  {
   "cell_type": "markdown",
   "id": "2e86117f",
   "metadata": {},
   "source": [
    "## Analyzing the data\n",
    "\n",
    "### Relationship between general health and heart disease"
   ]
  },
  {
   "cell_type": "code",
   "execution_count": null,
   "id": "863fb6e7-978d-431b-8b84-fa99212fa123",
   "metadata": {},
   "outputs": [],
   "source": [
    "dataset = data.copy()\n",
    "\n",
    "yes_and_no_columns = ['Exercise', 'Heart_Disease', 'Skin_Cancer', 'Other_Cancer', 'Depression', 'Arthritis', 'Smoking_History']\n",
    "\n",
    "for column in yes_and_no_columns:\n",
    "    dataset[column] = dataset[column].map({'Yes': True, 'No': False})"
   ]
  },
  {
   "cell_type": "code",
   "execution_count": null,
   "id": "a7b81b00",
   "metadata": {},
   "outputs": [],
   "source": [
    "import pandas as pd\n",
    "import plotnine as p9\n",
    "\n",
    "\n",
    "plot = (\n",
    "    p9.ggplot(dataset, p9.aes(x='General_Health', fill='Heart_Disease')) +\n",
    "    p9.geom_histogram(bins=10) +\n",
    "    p9.theme_minimal() +\n",
    "    p9.labs(x='Age Category', y='Heart Disease cases', fill='Heart Disease') +\n",
    "    p9.scale_fill_manual(values=['#6096ba','#e0b1cb']) +\n",
    "    p9.theme(axis_text_x=p9.element_text(angle=90, hjust=1))+\n",
    "    p9.ggtitle('Relation between general health and heart disease')\n",
    ")\n",
    "\n",
    "print(plot)\n",
    "plot.save(\"generalhealth.png\")\n"
   ]
  },
  {
   "cell_type": "markdown",
   "id": "b4cd77de-7f02-40b3-b410-0c07eb3fc483",
   "metadata": {},
   "source": [
    "#### Analysis\n",
    "\n",
    "In the visualization, nearly half  of individuals who reported poor health also indicated the presence of heart disease. Additionally, a notable number of respondents who rated their health as fair appear to have reported cases of heart disease. These observations suggest a potential association between perceived health status and the likelihood of heart disease. However, it is essential to note that while these patterns are intriguing, we cannot assert with absolute certainty that perceived health directly determines the presence of heart disease. "
   ]
  },
  {
   "cell_type": "markdown",
   "id": "e65773df-f7c9-409e-a85a-05a62b1e95de",
   "metadata": {},
   "source": [
    "### Relationship between age category and heart disease"
   ]
  },
  {
   "cell_type": "code",
   "execution_count": null,
   "id": "42189c25-337c-48d6-8d12-6e51cfe47b48",
   "metadata": {},
   "outputs": [],
   "source": [
    "\n",
    "plot = (\n",
    "    p9.ggplot(dataset, p9.aes(x='Age_Category', fill='Heart_Disease')) +\n",
    "    p9.geom_histogram(bins=30) +\n",
    "    p9.theme_minimal() +\n",
    "    p9.labs(x='Age Category', y='Heart Disease cases', fill='Heart Disease') +\n",
    "    p9.scale_fill_manual(values=['#6096ba','#e0b1cb']) +\n",
    "    p9.theme(axis_text_x=p9.element_text(angle=90, hjust=1))+\n",
    "    p9.ggtitle('Relation between age category and heart disease')\n",
    ")\n",
    "\n",
    "print(plot)\n",
    "plot.save(\"agecategory.png\")"
   ]
  },
  {
   "cell_type": "markdown",
   "id": "cd2d75d9-e87f-4a9e-9264-db6225f34ac4",
   "metadata": {},
   "source": [
    "#### Analysys\n",
    "\n",
    "The plot indicates a clear trend: younger individuals show fewer or no heart disease cases, while the incidence increases with age. This implies that heart disease is more prevalent among older people."
   ]
  },
  {
   "cell_type": "markdown",
   "id": "96c2ded2-9286-4094-a023-cbcb03dab980",
   "metadata": {},
   "source": [
    "### Relationship between gender and heart disease"
   ]
  },
  {
   "cell_type": "code",
   "execution_count": null,
   "id": "daa16647-e774-4418-9b81-f925718992f5",
   "metadata": {},
   "outputs": [],
   "source": [
    "\n",
    "plot = (\n",
    "    p9.ggplot(dataset, p9.aes(x='Sex', fill='Heart_Disease')) +\n",
    "    p9.geom_histogram(bins=10) +\n",
    "    p9.theme_minimal() +\n",
    "    p9.labs(x='Gender', y='Count', fill='Heart Disease') +\n",
    "    p9.scale_fill_manual(values=['#6096ba','#e0b1cb'])+\n",
    "    p9.ggtitle('Relation between gender and heart disease')\n",
    ")\n",
    "print(plot)"
   ]
  },
  {
   "cell_type": "markdown",
   "id": "ebe7a728-9419-4c8f-92f0-401af77991d3",
   "metadata": {},
   "source": [
    "#### Analysis\n",
    "\n",
    "The plot illustrates that males exhibit a higher incidence of heart disease cases. Within the given dataset males are more prone to experiencing heart disease."
   ]
  },
  {
   "cell_type": "markdown",
   "id": "33819dcf-1ec1-42bc-9aeb-2ed1a96d1050",
   "metadata": {},
   "source": [
    "###  Relationship between gender, heart disease, and age category"
   ]
  },
  {
   "cell_type": "code",
   "execution_count": null,
   "id": "e42e4174-1ec9-4ff0-8dae-e95988b7094a",
   "metadata": {},
   "outputs": [],
   "source": [
    "df = pd.DataFrame({'Age_Category': data['Age_Category'], 'Gender': data['Sex'], 'Heart_Disease': data['Heart_Disease']})\n",
    "df2 = df[df['Heart_Disease'] == 'Yes']\n",
    "plot=(\n",
    "    p9.ggplot(df2, p9.aes(x='Age_Category', fill='Gender')) +\n",
    "    p9.geom_bar(position='dodge', stat='count') +\n",
    "    p9.theme(axis_text_x=p9.element_text(angle=90, hjust=1)) +\n",
    "    p9.labs(x='Age Category', y='Count', fill='Gender') +\n",
    "    p9.scale_fill_manual(values=['#e0b1cb','#6096ba'])+\n",
    "    p9.ggtitle('Relation between gender, age category and heart disease')\n",
    ")\n",
    "print(plot)"
   ]
  },
  {
   "cell_type": "markdown",
   "id": "e6062dbd-db82-4da9-a50f-ba0ae65f19c7",
   "metadata": {},
   "source": [
    "#### Analysis\n",
    "\n",
    "This plot reinforces the evident correlation between age and heart disease cases, showcasing a notable increase with advancing age. Additionally, it underscores a gender disparity, highlighting that, within this dataset, there are more male individuals with reported cases of heart disease."
   ]
  },
  {
   "cell_type": "markdown",
   "id": "c78ed859-1991-4eb7-889c-1137aea6daee",
   "metadata": {},
   "source": [
    "### Relationship between BMI category and heart disease"
   ]
  },
  {
   "cell_type": "code",
   "execution_count": null,
   "id": "7be3c3db-728e-4932-b86d-b124f3a8af8c",
   "metadata": {},
   "outputs": [],
   "source": [
    "dataset['BMI_Category'] = pd.cut(dataset['BMI'], bins=[0,18.5,25,30,100], labels=['Underweight','Normal','Overweight','Obese'])\n",
    "\n",
    "df = pd.DataFrame({'BMI': dataset['BMI_Category'], 'Heart_Disease': dataset['Heart_Disease']})\n",
    "\n",
    "\n",
    "plot = (\n",
    "    p9.ggplot(df, p9.aes(x='BMI', fill='Heart_Disease')) +\n",
    "    p9.geom_histogram(bins=10) +\n",
    "    p9.theme_minimal() +\n",
    "    p9.labs(x='BMI', y='Count', fill='Heart Disease') +\n",
    "    p9.scale_fill_manual(values=['#6096ba','#e0b1cb'])+\n",
    "    p9.ggtitle('Relation between BMI category and heart disease')\n",
    ")\n",
    "print(plot)"
   ]
  },
  {
   "cell_type": "markdown",
   "id": "59cc8fc4-d3d2-49ed-b74f-a243d029c32b",
   "metadata": {},
   "source": [
    "#### Analysis\n",
    "\n",
    "In our dataset it doesn't show a clear distinction between people who are overweight and the prevalence of heart diseases."
   ]
  },
  {
   "cell_type": "markdown",
   "id": "865e9bf6-ce7d-4a1c-9950-da61650d7d17",
   "metadata": {},
   "source": [
    "### Relationship between heart disease and excercise"
   ]
  },
  {
   "cell_type": "code",
   "execution_count": null,
   "id": "82ba3d87-0779-4184-8359-aa611d1473c3",
   "metadata": {},
   "outputs": [],
   "source": [
    "plot = (\n",
    "    p9.ggplot(dataset, p9.aes(x='Exercise', fill='Heart_Disease')) +\n",
    "    p9.geom_histogram(bins=10) +\n",
    "    p9.theme_minimal() +\n",
    "    p9.labs(x='Exercise', y='Count', fill='Heart Disease') +\n",
    "    p9.scale_fill_manual(values=['#6096ba','#e0b1cb'])+\n",
    "    p9.ggtitle('Relation between excercise and heart disease')\n",
    ")\n",
    "print(plot)\n"
   ]
  },
  {
   "cell_type": "markdown",
   "id": "55777319-93af-4e0b-b16d-cb5eeb473545",
   "metadata": {},
   "source": [
    "#### Analysis\n",
    "\n",
    "In our dataset reveals that individuals who don't exercise exhibit a higher incidence of heart disease cases. "
   ]
  },
  {
   "cell_type": "markdown",
   "id": "425ba136-a026-4c32-af2d-f5d15b9b42c5",
   "metadata": {},
   "source": [
    "### Relationship between smoking history and excercise"
   ]
  },
  {
   "cell_type": "code",
   "execution_count": null,
   "id": "a237c70c-0c60-4fdd-b677-803eabb1ed42",
   "metadata": {},
   "outputs": [],
   "source": [
    "\n",
    "plot = (\n",
    "    p9.ggplot(dataset, p9.aes(x='Smoking_History', fill='Heart_Disease')) +\n",
    "    p9.geom_histogram(bins=10) +\n",
    "    p9.theme_minimal() +\n",
    "    p9.labs(x='Smoking History', y='Count', fill='Heart Disease') +\n",
    "    p9.scale_fill_manual(values=['#6096ba','#e0b1cb']) +\n",
    "    p9.theme(axis_text_x=p9.element_text(angle=0, hjust=0.5))+\n",
    "    p9.ggtitle('Relation between smoking history and heart disease')\n",
    ")\n",
    "\n",
    "print(plot)\n",
    "plot.save(\"smokinghistory2.png\")"
   ]
  },
  {
   "cell_type": "markdown",
   "id": "f8876336-3819-4d21-929f-9d1c97d3d7f0",
   "metadata": {},
   "source": [
    "#### Analysis\n",
    "\n",
    "In our dataset people who smoke have higher heart disease cases."
   ]
  },
  {
   "cell_type": "markdown",
   "id": "eee50a4b-4cee-4648-b622-b1fd0f758bd6",
   "metadata": {},
   "source": [
    "###  Relationship between smoking history, heart disease and age category"
   ]
  },
  {
   "cell_type": "code",
   "execution_count": null,
   "id": "50cf0122-289f-4dee-aaf3-2d787c7984a1",
   "metadata": {},
   "outputs": [],
   "source": [
    "df = pd.DataFrame({'Age_Category': data['Age_Category'], 'Smoking_History': data['Smoking_History'], 'Heart_Disease': data['Heart_Disease']})\n",
    "\n",
    "plot = (\n",
    "    p9.ggplot(df, p9.aes(x='Age_Category', fill='Smoking_History')) +\n",
    "    p9.geom_histogram(bins=30) +\n",
    "    p9.theme(axis_text_x=p9.element_text(angle=90, hjust=1)) +\n",
    "    p9.labs(x='Age Category', y='Heart Disease cases') +\n",
    "    p9.scale_fill_manual(values=['#6096ba','#e0b1cb'])+\n",
    "    p9.ggtitle('Relation between smoking history, age category and heart disease')\n",
    ")\n",
    "\n",
    "print(plot)\n",
    "plot.save(\"smokinghistory.png\")"
   ]
  },
  {
   "cell_type": "markdown",
   "id": "84040ba4-f56d-4960-aecf-829485158d96",
   "metadata": {},
   "source": [
    "#### Analysis\n",
    "\n",
    "The plot shows an intriguing observation that nearly half of the cases within age categories 30 and above are associated with smoking. This suggests a potential link between smoking history and an increased likelihood of heart disease, raising questions about the impact of smoking on cardiovascular health or the elevated prevalence of heart disease among individuals who smoke."
   ]
  },
  {
   "cell_type": "markdown",
   "id": "0de08de3-9ab6-4bdc-8460-01401da75145",
   "metadata": {},
   "source": [
    "###  Relationship between diabetes and heart disease"
   ]
  },
  {
   "cell_type": "code",
   "execution_count": null,
   "id": "922ac93e-0b02-4f36-b49d-567d53fa170d",
   "metadata": {},
   "outputs": [],
   "source": [
    "\n",
    "plot = (\n",
    "    p9.ggplot(dataset, p9.aes(x='Diabetes', fill='Heart_Disease')) +\n",
    "    p9.geom_histogram(bins=10) +\n",
    "    p9.theme_minimal() +\n",
    "    p9.labs(x='Smoking History', y='Count', fill='Heart Disease') +\n",
    "    p9.scale_fill_manual(values=['#6096ba','#e0b1cb']) +\n",
    "    p9.theme(axis_text_x=p9.element_text(angle=90, hjust=1))+\n",
    "    p9.ggtitle('Relation between diabetes and heart disease')\n",
    ")\n",
    "\n",
    "print(plot)\n"
   ]
  },
  {
   "cell_type": "markdown",
   "id": "6607200a-0d12-4a32-988e-538d8dc05f2a",
   "metadata": {},
   "source": [
    "#### Analysis\n",
    "\n",
    "Upon closer analysis of the plot, it reveals that individuals with diabetes exhibit a higher incidence of heart disease cases compared to those without diabetes in our dataset. "
   ]
  },
  {
   "cell_type": "markdown",
   "id": "69ff70de-14ca-4180-bbc2-05366d4db5ed",
   "metadata": {},
   "source": [
    "### Relationship between alcohol consumption and heart disease"
   ]
  },
  {
   "cell_type": "code",
   "execution_count": null,
   "id": "5cf9a1c2-1a07-4a80-a8b0-8dd847e17317",
   "metadata": {},
   "outputs": [],
   "source": [
    "df = pd.DataFrame({ 'Alcohol_Consumption': data['Alcohol_Consumption'], 'Heart_Disease': data['Heart_Disease']})\n",
    "\n",
    "(p9.ggplot(\n",
    "    data = df, \n",
    "    mapping = p9.aes(x = 'Heart_Disease', y = 'Alcohol_Consumption')\n",
    " )+ \n",
    "    p9.geom_boxplot()+\n",
    "    p9.ggtitle('Relation between alcohol consumption and heart disease'))"
   ]
  },
  {
   "cell_type": "markdown",
   "id": "6b00b7f2-baa8-4d67-8fbd-e5d492960c3c",
   "metadata": {},
   "source": [
    "#### Analysis \n",
    "\n",
    "Within our dataset, individuals who consume lower amounts of alcohol exhibit a higher prevalence of heart disease cases."
   ]
  },
  {
   "cell_type": "markdown",
   "id": "c862beee-40ed-44bf-b13f-4fdcd5a684af",
   "metadata": {},
   "source": [
    "### Relationship between depression and heart disease"
   ]
  },
  {
   "cell_type": "code",
   "execution_count": null,
   "id": "581ba034-7c52-4d89-ad33-33b90b8101da",
   "metadata": {},
   "outputs": [],
   "source": [
    "\n",
    "\n",
    "plot = (\n",
    "    p9.ggplot(dataset, p9.aes(x='Depression', fill='Heart_Disease')) +\n",
    "    p9.geom_histogram(bins=10) +\n",
    "    p9.theme_minimal() +\n",
    "    p9.labs(x='Depression', y='Count', fill='Heart Disease') +\n",
    "    p9.scale_fill_manual(values=['#6096ba','#e0b1cb'])+\n",
    "    p9.ggtitle('Relation between depression and heart disease')\n",
    ")\n",
    "\n",
    "print(plot)"
   ]
  },
  {
   "cell_type": "markdown",
   "id": "ceefc93a-87ad-4f10-8f56-b47f8631b667",
   "metadata": {},
   "source": [
    "#### Analysis\n",
    "\n",
    "\n",
    "The plot does not conclusively establish a correlation between individuals with depression and a higher prevalence of heart disease cases."
   ]
  },
  {
   "cell_type": "markdown",
   "id": "6947ff34-be40-4185-ae45-69bc4cc45e36",
   "metadata": {},
   "source": [
    "### Relationship between arthritis and heart disease"
   ]
  },
  {
   "cell_type": "code",
   "execution_count": null,
   "id": "bd1a719e-4945-493b-b87a-e23cf5cf6199",
   "metadata": {},
   "outputs": [],
   "source": [
    "plot = (\n",
    "    p9.ggplot(dataset, p9.aes(x='Arthritis', fill='Heart_Disease')) +\n",
    "    p9.geom_histogram(bins=10) +\n",
    "    p9.theme_minimal() +\n",
    "    p9.labs(x='Arthritis', y='Count', fill='Heart Disease') +\n",
    "    p9.scale_fill_manual(values=['#6096ba','#e0b1cb'])+\n",
    "    p9.ggtitle('Relation between arthritis and heart disease')\n",
    ")\n",
    "\n",
    "print(plot)\n",
    "plot.save(\"arthritis.png\")"
   ]
  },
  {
   "cell_type": "markdown",
   "id": "f883777f-8f66-4165-8dc5-80a0910371bf",
   "metadata": {},
   "source": [
    "#### Analysis\n",
    "\n",
    "\n",
    "The plot indicates a correlation between individuals with arthritis and a higher incidence of heart disease cases. This observation suggests a potential association between arthritis and an increased likelihood of heart disease within the dataset."
   ]
  },
  {
   "cell_type": "code",
   "execution_count": null,
   "id": "2c1a4441-20b9-4296-9e0a-48cec6b1c8b3",
   "metadata": {},
   "outputs": [],
   "source": [
    "from sklearn.preprocessing import OrdinalEncoder\n",
    "import seaborn as sns\n",
    "import matplotlib.pyplot as plt\n",
    "\n",
    "df3 = data.copy()\n",
    "\n",
    "enc = OrdinalEncoder()\n",
    "df3['Exercise'] = enc.fit_transform(df3[['Exercise']])\n",
    "df3['Heart_Disease'] = enc.fit_transform(df3[['Heart_Disease']])\n",
    "df3['Skin_Cancer'] = enc.fit_transform(df3[['Skin_Cancer']])\n",
    "df3['Other_Cancer'] = enc.fit_transform(df3[['Other_Cancer']])\n",
    "df3['Depression'] = enc.fit_transform(df3[['Depression']])\n",
    "df3['Sex'] = enc.fit_transform(df3[['Sex']])\n",
    "df3['Arthritis'] = enc.fit_transform(df3[['Arthritis']])\n",
    "df3['Smoking_History'] = enc.fit_transform(df3[['Smoking_History']])\n",
    "\n",
    "rank=['Poor','Fair','Good','Very Good','Excellent']\n",
    "oe = OrdinalEncoder(categories=[rank])\n",
    "df3['General_Health']=oe.fit_transform(df3[['General_Health']])\n",
    "\n",
    "rank1=['No','No, pre-diabetes or borderline diabetes','Yes, but female told only during pregnancy','Yes']\n",
    "oe1 = OrdinalEncoder(categories=[rank1])\n",
    "df3['Diabetes']=oe1.fit_transform(df3[['Diabetes']])\n",
    "\n",
    "rank2=['Within the past year','Within the past 2 years','Within the past 5 years','5 or more years ago','Never']\n",
    "oe2 = OrdinalEncoder(categories=[rank2])\n",
    "df3['Checkup']=oe2.fit_transform(df3[['Checkup']])\n",
    "\n",
    "df3['Age_Category']=df3['Age_Category'].str[:2].astype(int)\n",
    "\n",
    "correlation_matrix = df3.corr()['Heart_Disease']\n",
    "plt.figure(figsize=(15, 15))\n",
    "sns.heatmap(correlation_matrix.to_frame(), annot=True, cmap='coolwarm', linewidths=0.5)\n",
    "plt.show()"
   ]
  },
  {
   "cell_type": "markdown",
   "id": "cffd6328-0156-4d94-b6d4-55395b42bd6d",
   "metadata": {},
   "source": [
    "### Conclusion\n",
    "\n",
    "\n",
    "Through our analysis and the preceding plots, a robust correlation emerges, notably underscoring age category as a pivotal factor. As highlighted earlier, a discernible trend reveals an increase in heart disease cases with advancing age. The correlation matrix further emphasizes that smoking history, diabetes, and arthritis share a higher correlation, suggesting their potential roles in influencing the likelihood of heart disease within our dataset.The negative correlation between general health and heart disease suggests that individuals reporting poorer health are associated with a higher prevalence of heart disease cases in our dataset. In conclusion, individuals with these conditions or habits may be more susceptible to heart disease based on our dataset."
   ]
  },
  {
   "cell_type": "markdown",
   "id": "2460edb3",
   "metadata": {},
   "source": [
    "## Preparing data for model training\n",
    "\n",
    "Changing all categorical columns into binary features.<br>\n",
    "\n",
    "We will change the columns with two values into binary values. These columns will be – Exercise, Heart_Disease, Skin_Cancer, Other_Cancer, Depression, Arthritis, Smoking_History.\n",
    "\n",
    "Categorical columns that will be changed with get_dummies – General_Health, Checkup, Diabetes, Age_Category, Sex.<br>\n",
    "\n",
    "We will also leave out columns such as Fruit_Consumption, Green_Vegetables_Consumption, FriedPotato_Consumption because we are not certain of consumption unit.\n"
   ]
  },
  {
   "cell_type": "code",
   "execution_count": null,
   "id": "9c84b44d",
   "metadata": {},
   "outputs": [],
   "source": [
    "# Removing consumption columns with .drop\n",
    "\n",
    "data_without_consumption = data.drop(columns=['Fruit_Consumption', 'Green_Vegetables_Consumption', 'FriedPotato_Consumption'])\n",
    "\n",
    "# Changing columns with values 'yes' and 'no' into columns with binary values\n",
    "# Yes - True\n",
    "# No - False\n",
    "\n",
    "yes_and_no_columns = ['Exercise', 'Heart_Disease', 'Skin_Cancer', 'Other_Cancer', 'Depression', 'Arthritis', 'Smoking_History']\n",
    "\n",
    "for column in yes_and_no_columns:\n",
    "    data_without_consumption[column] = data_without_consumption[column].map({'Yes': True, 'No': False})\n",
    "\n",
    "# Changing categorical columns into binary columns\n",
    "\n",
    "data_dum = pd.get_dummies(data_without_consumption, columns = ['General_Health', 'Checkup', 'Diabetes', 'Age_Category','Sex'])\n",
    "\n",
    "data_dum\n"
   ]
  },
  {
   "cell_type": "markdown",
   "id": "7b520818",
   "metadata": {},
   "source": [
    "### Splitting data into train and test set\n",
    "\n",
    "We will be predicting the 'Heart_Disease' column"
   ]
  },
  {
   "cell_type": "code",
   "execution_count": null,
   "id": "faf411f8",
   "metadata": {},
   "outputs": [],
   "source": [
    "from sklearn.model_selection import train_test_split\n",
    "from imblearn.over_sampling import SMOTE\n",
    "from sklearn.preprocessing import StandardScaler\n",
    "\n",
    "X = data_dum.drop(columns='Heart_Disease')\n",
    "y = data_dum['Heart_Disease']\n",
    "\n",
    "smote = SMOTE(random_state=5)\n",
    "X_balanced, y_balanced = smote.fit_resample(X, y)\n",
    "\n",
    "X_train, X_val, y_train, y_val = train_test_split(X_balanced, y_balanced, test_size=0.20, random_state= 5)\n",
    "\n",
    "scaler_d = StandardScaler()\n",
    "X_train_scaled = scaler_d.fit_transform(X_train)\n",
    "X_val_scaled = scaler_d.transform(X_val)"
   ]
  },
  {
   "cell_type": "markdown",
   "id": "805f2415-561b-4f95-b1df-a7fe81f7c67a",
   "metadata": {},
   "source": [
    "### Choosing an algorithm\n",
    "\n",
    "As this is a classification task we should use algorithms such as LogisticRegression, Decision tree, SVM, K-Nearest Neighbors.\n",
    "\n",
    "\n",
    "Both SVM and K-Nearest Neighbors are considered computationally expensive, so we thought it might be reasonable to explore other algorithms that are known to be more computationally efficient for moderately sized datasets.\n",
    "\n",
    "So for this dataset we are using LogisticRegression, RandomForestClassifier and DecisionTreeClassifier."
   ]
  },
  {
   "cell_type": "code",
   "execution_count": null,
   "id": "84486fd6-0512-4efc-b1a3-077845bd1bbd",
   "metadata": {},
   "outputs": [],
   "source": [
    "from sklearn.tree import DecisionTreeClassifier\n",
    "from sklearn.ensemble import RandomForestClassifier\n",
    "from sklearn.linear_model import LogisticRegression\n",
    "from sklearn.metrics import accuracy_score, classification_report, confusion_matrix, roc_curve, roc_auc_score"
   ]
  },
  {
   "cell_type": "markdown",
   "id": "ff8dd2a7-6806-4d25-af4d-9632b3c532b3",
   "metadata": {},
   "source": [
    "### LogisticRegression"
   ]
  },
  {
   "cell_type": "code",
   "execution_count": null,
   "id": "57bc57bf-a7ee-4886-8c19-1745c160063e",
   "metadata": {},
   "outputs": [],
   "source": [
    "logreg_model = LogisticRegression(random_state=5, solver='liblinear')\n",
    "\n",
    "logreg_model.fit(X_train_scaled, y_train)\n",
    "\n",
    "lr_y_pred_proba = logreg_model.predict_proba(X_val_scaled)[:, 1]\n",
    "lr_y_pred = logreg_model.predict(X_val_scaled)\n",
    "\n",
    "accuracy = accuracy_score(y_val, lr_y_pred)\n",
    "conf_matrix = confusion_matrix(y_val, lr_y_pred)\n",
    "classification_rep = classification_report(y_val, lr_y_pred)\n",
    "\n",
    "# Print the evaluation metrics\n",
    "print(f\"Accuracy: {accuracy:.4f}\")\n",
    "print(\"\\nConfusion Matrix:\")\n",
    "print(conf_matrix)\n",
    "print(\"\\nClassification Report:\")\n",
    "print(classification_rep)"
   ]
  },
  {
   "cell_type": "markdown",
   "id": "6fb3eda8-2972-440c-9b50-17a17aeb55d8",
   "metadata": {},
   "source": [
    "### DecisionTreeClassifier"
   ]
  },
  {
   "cell_type": "code",
   "execution_count": null,
   "id": "a3e0724e-adba-4d4d-b9c7-87fa8c46ed97",
   "metadata": {},
   "outputs": [],
   "source": [
    "#Decision tree - entropy, random_state = 5\n",
    "# Get predicted probabilities using `predict_proba`\n",
    "dt_model = DecisionTreeClassifier(random_state=5, criterion='entropy').fit(X_train_scaled, y_train)\n",
    "\n",
    "dt_y_pred_proba = dt_model.predict_proba(X_val_scaled)[:, 1]  # Use [:, 1] for the positive class probabilities\n",
    "\n",
    "dt_y_pred = dt_model.predict(X_val_scaled)\n",
    "\n",
    "accuracy = accuracy_score(y_val, dt_y_pred)\n",
    "conf_matrix = confusion_matrix(y_val, dt_y_pred)\n",
    "classification_rep = classification_report(y_val, dt_y_pred)\n",
    "\n",
    "# Print the evaluation metrics\n",
    "print(f\"Accuracy: {accuracy:.4f}\")\n",
    "print(\"\\nConfusion Matrix:\")\n",
    "print(conf_matrix)\n",
    "print(\"\\nClassification Report:\")\n",
    "print(classification_rep)\n"
   ]
  },
  {
   "cell_type": "markdown",
   "id": "07625623-8f18-4fdc-a263-9530766a04d0",
   "metadata": {},
   "source": [
    "### RandomForestClassifier"
   ]
  },
  {
   "cell_type": "code",
   "execution_count": null,
   "id": "faee699e-14a3-4e8b-a46c-fac870b3d475",
   "metadata": {},
   "outputs": [],
   "source": [
    "rf_model = RandomForestClassifier().fit(X_train_scaled, y_train)\n",
    "rf_y_pred = rf_model.predict(X_val_scaled)\n",
    "\n",
    "# Get predicted probabilities using `predict_proba` for roc curve\n",
    "rf_y_pred_proba = rf_model.predict_proba(X_val_scaled)[:, 1]  \n",
    "\n",
    "rf_y_pred =  rf_model.predict(X_val_scaled)\n",
    "\n",
    "roc_auc = roc_auc_score(y_val, rf_y_pred_proba)\n",
    "accuracy = accuracy_score(y_val, rf_y_pred)\n",
    "conf_matrix = confusion_matrix(y_val, rf_y_pred)\n",
    "classification_rep = classification_report(y_val, rf_y_pred)\n",
    "\n",
    "# Print the evaluation metrics\n",
    "print(f\"Accuracy: {accuracy:.4f}\")\n",
    "print(\"\\nConfusion Matrix:\")\n",
    "print(conf_matrix)\n",
    "print(\"\\nClassification Report:\")\n",
    "print(classification_rep)"
   ]
  },
  {
   "cell_type": "markdown",
   "id": "bc6566b6-6e88-4379-9ced-58433a4bbb0e",
   "metadata": {},
   "source": [
    "### ROC curve"
   ]
  },
  {
   "cell_type": "code",
   "execution_count": null,
   "id": "6c6d27c7-636a-4a4f-ad9f-65cb5407cd03",
   "metadata": {},
   "outputs": [],
   "source": [
    "# Calculate false positive rate, true positive rate, and thresholds for each model\n",
    "lr_fpr, lr_tpr, _ = roc_curve(y_val, lr_y_pred_proba)\n",
    "dt_fpr, dt_tpr, _ = roc_curve(y_val, dt_y_pred_proba)\n",
    "rf_fpr, rf_tpr, _ = roc_curve(y_val, rf_y_pred_proba)\n",
    "\n",
    "# Calculate AUC for each model\n",
    "lr_auc = roc_auc_score(y_val, lr_y_pred_proba)\n",
    "dt_auc = roc_auc_score(y_val, dt_y_pred_proba)\n",
    "rf_auc = roc_auc_score(y_val, rf_y_pred_proba)\n",
    "\n",
    "# Plot ROC curves for each model\n",
    "plt.figure(figsize=(10, 8))\n",
    "plt.plot(lr_fpr, lr_tpr, label=f'Logistic Regression (AUC = {lr_auc:.2f})', color='green')\n",
    "plt.plot(dt_fpr, dt_tpr, label=f'Decision Tree (AUC = {dt_auc:.2f})', color='blue')\n",
    "plt.plot(rf_fpr, rf_tpr, label=f'Random Forest (AUC = {rf_auc:.2f})', color='orange')\n",
    "\n",
    "plt.plot([0, 1], [0, 1], color='navy', lw=2, linestyle='--')\n",
    "\n",
    "plt.xlabel('False Positive Rate')\n",
    "plt.ylabel('True Positive Rate')\n",
    "plt.title('ROC Curve for Different Models')\n",
    "plt.legend(loc='lower right')\n",
    "\n",
    "plt.savefig('ROCcurve.png',transparent=True)\n",
    "\n",
    "plt.show()\n"
   ]
  },
  {
   "cell_type": "markdown",
   "id": "5085d619-f924-44c8-8e8c-fdedecfac657",
   "metadata": {},
   "source": [
    "### Model – conclusion\n",
    "\n",
    "In conclusion, our machine learning model attains a remarkable accuracy of 95%, highlighting its overall strong performance. The exceptional AUC score of 0.99 underscores the model's proficiency in distinguishing between positive and negative instances, contributing to its reliability for predicting heart disease. Moreover, the balanced approach of our model is evident in its high recall, emphasizing its capability to accurately identify a substantial number of cases and reduce the risk of false negatives. The combination of high accuracy, AUC score, and recall collectively affirm the model's effectiveness and suitability for practical deployment in this specified context."
   ]
  }
 ],
 "metadata": {
  "kernelspec": {
   "display_name": "Python 3 (ipykernel)",
   "language": "python",
   "name": "python3"
  },
  "language_info": {
   "codemirror_mode": {
    "name": "ipython",
    "version": 3
   },
   "file_extension": ".py",
   "mimetype": "text/x-python",
   "name": "python",
   "nbconvert_exporter": "python",
   "pygments_lexer": "ipython3",
   "version": "3.11.6"
  }
 },
 "nbformat": 4,
 "nbformat_minor": 5
}
